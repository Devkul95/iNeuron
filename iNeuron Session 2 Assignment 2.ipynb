{
 "cells": [
  {
   "cell_type": "markdown",
   "metadata": {},
   "source": [
    "## Session 2: Assignment 1"
   ]
  },
  {
   "cell_type": "markdown",
   "metadata": {},
   "source": [
    "### Task 1:"
   ]
  },
  {
   "cell_type": "markdown",
   "metadata": {},
   "source": [
    "### 1.1\n",
    "Write a Python Program to implement your own myreduce() function which works exactly like\n",
    "Python's built-in function reduce()"
   ]
  },
  {
   "cell_type": "code",
   "execution_count": 17,
   "metadata": {
    "ExecuteTime": {
     "end_time": "2020-05-30T09:08:27.115321Z",
     "start_time": "2020-05-30T09:08:27.108385Z"
    }
   },
   "outputs": [],
   "source": [
    "def mult(a,b):\n",
    "    return a*b\n",
    "def add(a,b):\n",
    "    return a+b"
   ]
  },
  {
   "cell_type": "code",
   "execution_count": 18,
   "metadata": {
    "ExecuteTime": {
     "end_time": "2020-05-30T09:08:28.018992Z",
     "start_time": "2020-05-30T09:08:28.006909Z"
    }
   },
   "outputs": [
    {
     "name": "stdout",
     "output_type": "stream",
     "text": [
      "Multiplication: 6\n",
      "Addition: 6\n",
      "Using Lamda: 8\n"
     ]
    }
   ],
   "source": [
    "def myreduce(function, seq):\n",
    "    first = seq[0]\n",
    "    for i in seq[1:]:\n",
    "        first = function(first,i)\n",
    "    return first\n",
    "l = [2,1,3]\n",
    "print('Multiplication:',myreduce(mult,l))\n",
    "print('Addition:',myreduce(add,l))\n",
    "print('Using Lamda:',myreduce(lambda x, y: x**y, l))"
   ]
  },
  {
   "cell_type": "markdown",
   "metadata": {},
   "source": [
    "### 1.2\n",
    "Write a Python program to implement your own myfilter() function which works exactly like\n",
    "Python's built-in function filter()"
   ]
  },
  {
   "cell_type": "code",
   "execution_count": 19,
   "metadata": {
    "ExecuteTime": {
     "end_time": "2020-05-30T09:08:41.753677Z",
     "start_time": "2020-05-30T09:08:41.746088Z"
    }
   },
   "outputs": [],
   "source": [
    "def is_even(x):\n",
    "    if x%2 == 0:\n",
    "        return True\n",
    "    else:\n",
    "        return False\n",
    "def is_vowel(x):\n",
    "    vowel = ['a','e','i','o','u']\n",
    "    if x in vowel:\n",
    "        return True\n",
    "    else:\n",
    "        return False"
   ]
  },
  {
   "cell_type": "code",
   "execution_count": 20,
   "metadata": {
    "ExecuteTime": {
     "end_time": "2020-05-30T09:08:42.210259Z",
     "start_time": "2020-05-30T09:08:42.200423Z"
    }
   },
   "outputs": [
    {
     "name": "stdout",
     "output_type": "stream",
     "text": [
      "[2, 8, 4, 12, 14]\n",
      "['i', 'e', 'u', 'o']\n"
     ]
    }
   ],
   "source": [
    "def myfilter(func, seq):\n",
    "    result = []\n",
    "    for i in seq:\n",
    "        if func(i):\n",
    "            result.append(i)\n",
    "    return result\n",
    "seq = [1,2,7,8,4,12,14,17]\n",
    "string = list('iNeuron')\n",
    "print(myfilter(is_even, seq))\n",
    "print(myfilter(is_vowel, string))"
   ]
  },
  {
   "cell_type": "code",
   "execution_count": 21,
   "metadata": {
    "ExecuteTime": {
     "end_time": "2020-05-30T09:08:43.065150Z",
     "start_time": "2020-05-30T09:08:43.055400Z"
    }
   },
   "outputs": [
    {
     "name": "stdout",
     "output_type": "stream",
     "text": [
      "[2, 8, 4, 12, 14]\n",
      "['i', 'e', 'u', 'o']\n"
     ]
    }
   ],
   "source": [
    "# returning the value using list comprehension\n",
    "def myfilter(func, seq):\n",
    "    return [i for i in seq if func(i)]\n",
    "seq = [1,2,7,8,4,12,14,17]\n",
    "string = list('iNeuron')\n",
    "print(myfilter(is_even, seq))\n",
    "print(myfilter(is_vowel, string))"
   ]
  },
  {
   "cell_type": "markdown",
   "metadata": {},
   "source": [
    "### 2.\n",
    "Implement List comprehensions to produce the following lists.\n",
    "Write List comprehensions to produce the following Lists<br><br>\n",
    "['A', 'C', 'A', 'D', 'G', 'I', ’L’, ‘ D’]<br>\n",
    "['x', 'xx', 'xxx', 'xxxx', 'y', 'yy', 'yyy', 'yyyy', 'z', 'zz', 'zzz', 'zzzz']<br>\n",
    "['x', 'y', 'z', 'xx', 'yy', 'zz', 'xx', 'yy', 'zz', 'xxxx', 'yyyy', 'zzzz']\n",
    "\n",
    "[[2], [3], [4], [3], [4], [5], [4], [5], [6]]<br>\n",
    "[[2, 3, 4, 5], [3, 4, 5, 6], [4, 5, 6, 7], [5, 6, 7, 8]]<br>\n",
    "[(1, 1), (2, 1), (3, 1), (1, 2), (2, 2), (3, 2), (1, 3), (2, 3), (3, 3)]<br>"
   ]
  },
  {
   "cell_type": "code",
   "execution_count": 22,
   "metadata": {
    "ExecuteTime": {
     "end_time": "2020-05-30T09:09:02.625043Z",
     "start_time": "2020-05-30T09:09:02.616257Z"
    }
   },
   "outputs": [
    {
     "data": {
      "text/plain": [
       "['A', 'C', 'A', 'D', 'G', 'I', 'L', 'D']"
      ]
     },
     "execution_count": 22,
     "metadata": {},
     "output_type": "execute_result"
    }
   ],
   "source": [
    "# Sequence 1\n",
    "str1 = 'ACADGILD'\n",
    "[x for x in str1]"
   ]
  },
  {
   "cell_type": "code",
   "execution_count": 23,
   "metadata": {
    "ExecuteTime": {
     "end_time": "2020-05-30T09:09:03.491204Z",
     "start_time": "2020-05-30T09:09:03.482320Z"
    }
   },
   "outputs": [
    {
     "data": {
      "text/plain": [
       "['x', 'xx', 'xxx', 'xxxx', 'y', 'yy', 'yyy', 'yyyy', 'z', 'zz', 'zzz', 'zzzz']"
      ]
     },
     "execution_count": 23,
     "metadata": {},
     "output_type": "execute_result"
    }
   ],
   "source": [
    "# Sequence 2\n",
    "str2 = list('xyz')\n",
    "[char*i for char in str2 for i in range(1,5)]"
   ]
  },
  {
   "cell_type": "code",
   "execution_count": 24,
   "metadata": {
    "ExecuteTime": {
     "end_time": "2020-05-30T09:09:04.666376Z",
     "start_time": "2020-05-30T09:09:04.655060Z"
    }
   },
   "outputs": [
    {
     "data": {
      "text/plain": [
       "['x', 'y', 'z', 'xx', 'yy', 'zz', 'xxx', 'yyy', 'zzz', 'xxxx', 'yyyy', 'zzzz']"
      ]
     },
     "execution_count": 24,
     "metadata": {},
     "output_type": "execute_result"
    }
   ],
   "source": [
    "# Sequence 3\n",
    "str3 = list('xyz')\n",
    "[char*i for i in range(1,5) for char in str3]"
   ]
  },
  {
   "cell_type": "code",
   "execution_count": 25,
   "metadata": {
    "ExecuteTime": {
     "end_time": "2020-05-30T09:09:08.976336Z",
     "start_time": "2020-05-30T09:09:08.966360Z"
    }
   },
   "outputs": [
    {
     "data": {
      "text/plain": [
       "[[2], [3], [4], [3], [4], [5], [4], [5], [6]]"
      ]
     },
     "execution_count": 25,
     "metadata": {},
     "output_type": "execute_result"
    }
   ],
   "source": [
    "# Sequence 4\n",
    "[[i+k] for i in range(2,5) for k in range(3)]"
   ]
  },
  {
   "cell_type": "code",
   "execution_count": 26,
   "metadata": {
    "ExecuteTime": {
     "end_time": "2020-05-30T09:09:09.703410Z",
     "start_time": "2020-05-30T09:09:09.677413Z"
    }
   },
   "outputs": [
    {
     "data": {
      "text/plain": [
       "[[2, 3, 4, 5], [3, 4, 5, 6], [4, 5, 6, 7], [5, 6, 7, 8]]"
      ]
     },
     "execution_count": 26,
     "metadata": {},
     "output_type": "execute_result"
    }
   ],
   "source": [
    "#Sequence 5\n",
    "#[[2, 3, 4, 5], [3, 4, 5, 6], [4, 5, 6, 7], [5, 6, 7, 8]]\n",
    "[[k+i for k in range(4)] for i in range(2,6)]"
   ]
  },
  {
   "cell_type": "code",
   "execution_count": 27,
   "metadata": {
    "ExecuteTime": {
     "end_time": "2020-05-30T09:09:10.383056Z",
     "start_time": "2020-05-30T09:09:10.371086Z"
    }
   },
   "outputs": [
    {
     "data": {
      "text/plain": [
       "[(1, 1), (2, 1), (3, 1), (1, 2), (2, 2), (3, 2), (1, 3), (2, 3), (3, 3)]"
      ]
     },
     "execution_count": 27,
     "metadata": {},
     "output_type": "execute_result"
    }
   ],
   "source": [
    "# Sequence 6\n",
    "#[(1, 1), (2, 1), (3, 1), (1, 2), (2, 2), (3, 2), (1, 3), (2, 3), (3, 3)]\n",
    "[(i,k)for k in range(1,4) for i in range(1,4)]"
   ]
  },
  {
   "cell_type": "markdown",
   "metadata": {},
   "source": [
    "### 3.\n",
    "Implement a function longestWord() that takes a list of words and returns the longest one."
   ]
  },
  {
   "cell_type": "code",
   "execution_count": 28,
   "metadata": {
    "ExecuteTime": {
     "end_time": "2020-05-30T09:09:22.544218Z",
     "start_time": "2020-05-30T09:09:22.532583Z"
    }
   },
   "outputs": [
    {
     "data": {
      "text/plain": [
       "'Programming'"
      ]
     },
     "execution_count": 28,
     "metadata": {},
     "output_type": "execute_result"
    }
   ],
   "source": [
    "def longestWord(words):\n",
    "    longest = words[0]\n",
    "    for i in words:\n",
    "        if len(i) >= len(longest):\n",
    "            longest = i\n",
    "    return longest\n",
    "words1 = ['iNeuron','Assignment','Python','Programming']\n",
    "longestWord(words1)\n",
    "        \n",
    "    "
   ]
  },
  {
   "cell_type": "markdown",
   "metadata": {},
   "source": [
    "## Task2:"
   ]
  },
  {
   "cell_type": "markdown",
   "metadata": {
    "ExecuteTime": {
     "end_time": "2020-05-29T10:51:47.637188Z",
     "start_time": "2020-05-29T10:51:47.624189Z"
    }
   },
   "source": [
    "### 1.1\n",
    "Write a Python Program(with class concepts) to find the area of the triangle using the below\n",
    "formula.<br>\n",
    "area = (s*(s-a)*(s-b)*(s-c)) ** 0.5<br>\n",
    "Function to take the length of the sides of triangle from user should be defined in the parent\n",
    "class and function to calculate the area should be defined in subclass."
   ]
  },
  {
   "cell_type": "code",
   "execution_count": 29,
   "metadata": {
    "ExecuteTime": {
     "end_time": "2020-05-30T09:09:36.884253Z",
     "start_time": "2020-05-30T09:09:36.858320Z"
    }
   },
   "outputs": [
    {
     "name": "stdout",
     "output_type": "stream",
     "text": [
      "Area of Triangle: 5.332682251925386\n"
     ]
    }
   ],
   "source": [
    "class Dimensions:\n",
    "    def __init__(self, sA,sB,sC):\n",
    "        self.a = sA\n",
    "        self.b = sB\n",
    "        self.c = sC\n",
    "    def semiperimeter(self):\n",
    "        s = (self.a + self.b + self.c)/2\n",
    "        return s\n",
    "class Area(Dimensions):\n",
    "    def calculateArea(self):\n",
    "        s = super().semiperimeter()\n",
    "        area = (s*(s-self.a)*(s-self.b)*(s-self.c)) ** 0.5\n",
    "        return area\n",
    "        \n",
    "area = Area(4,3,6)\n",
    "print('Area of Triangle:',area.calculateArea())\n",
    "        "
   ]
  },
  {
   "cell_type": "markdown",
   "metadata": {},
   "source": [
    "### 1.2\n",
    "Write a function filter_long_words() that takes a list of words and an integer n and returns the list\n",
    "of words that are longer than n."
   ]
  },
  {
   "cell_type": "code",
   "execution_count": 30,
   "metadata": {
    "ExecuteTime": {
     "end_time": "2020-05-30T09:09:48.517769Z",
     "start_time": "2020-05-30T09:09:48.507839Z"
    }
   },
   "outputs": [
    {
     "name": "stdout",
     "output_type": "stream",
     "text": [
      "['Sudhansu', 'great', 'mentor']\n"
     ]
    }
   ],
   "source": [
    "def filter_long_words(n,words):\n",
    "    longest_word=[]\n",
    "    long_word_temp = words[0]\n",
    "    for i in words:\n",
    "        if len(i)>n:\n",
    "            longest_word.append(i)\n",
    "    return longest_word\n",
    "n=4\n",
    "words=['Sudhansu','Sir','is','a','great','mentor']\n",
    "print(filter_long_words(n,words))"
   ]
  },
  {
   "cell_type": "markdown",
   "metadata": {},
   "source": [
    "### 2.1\n",
    "Write a Python program using function concept that maps list of words into a list of integers\n",
    "representing the lengths of the corresponding words​.<br>\n",
    "Hint: ​If a list [ ab,cde,erty] is passed on to the python function output should come as [2,3,4]<br>\n",
    "Here 2,3 and 4 are the lengths of the words in the list"
   ]
  },
  {
   "cell_type": "code",
   "execution_count": 31,
   "metadata": {
    "ExecuteTime": {
     "end_time": "2020-05-30T09:09:59.795701Z",
     "start_time": "2020-05-30T09:09:59.786581Z"
    }
   },
   "outputs": [
    {
     "name": "stdout",
     "output_type": "stream",
     "text": [
      "[6, 7, 5, 8, 7]\n"
     ]
    }
   ],
   "source": [
    "def map_length_of_word(words):\n",
    "    return [len(i) for i in words]\n",
    "words= ['Python', 'program','using','function','concept']\n",
    "print(map_length_of_word(words))"
   ]
  },
  {
   "cell_type": "markdown",
   "metadata": {},
   "source": [
    "### 2.2\n",
    "Write a Python function which takes a character (i.e. a string of length 1) and returns True if it is\n",
    "a vowel, False otherwise."
   ]
  },
  {
   "cell_type": "code",
   "execution_count": 32,
   "metadata": {
    "ExecuteTime": {
     "end_time": "2020-05-30T09:10:12.167078Z",
     "start_time": "2020-05-30T09:10:12.155113Z"
    }
   },
   "outputs": [
    {
     "name": "stdout",
     "output_type": "stream",
     "text": [
      "False\n",
      "True\n",
      "True\n"
     ]
    }
   ],
   "source": [
    "def is_vowel(char):\n",
    "    vowels = ['a','e','i','o','u']\n",
    "    if char.lower() in vowels:\n",
    "        return True\n",
    "    else:\n",
    "        return False\n",
    "print(is_vowel('D'))\n",
    "print(is_vowel('E'))\n",
    "print(is_vowel('a'))\n"
   ]
  },
  {
   "cell_type": "code",
   "execution_count": null,
   "metadata": {},
   "outputs": [],
   "source": []
  }
 ],
 "metadata": {
  "kernelspec": {
   "display_name": "Python 3",
   "language": "python",
   "name": "python3"
  },
  "language_info": {
   "codemirror_mode": {
    "name": "ipython",
    "version": 3
   },
   "file_extension": ".py",
   "mimetype": "text/x-python",
   "name": "python",
   "nbconvert_exporter": "python",
   "pygments_lexer": "ipython3",
   "version": "3.7.4"
  }
 },
 "nbformat": 4,
 "nbformat_minor": 2
}
